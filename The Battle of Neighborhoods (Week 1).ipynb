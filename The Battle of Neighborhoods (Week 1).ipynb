{
 "cells": [
  {
   "cell_type": "markdown",
   "metadata": {},
   "source": [
    "# Peer-graded Assignment - The Battle of Neighborhoods (Week 1)"
   ]
  },
  {
   "cell_type": "markdown",
   "metadata": {},
   "source": [
    "## Problem's Introduction and background"
   ]
  },
  {
   "cell_type": "markdown",
   "metadata": {},
   "source": [
    "In the city of Milan there are many advertising agencies that, through specific advertising campaigns of leafleting and promotions, advertise many products to companies and citizens.\n",
    "\n",
    "These advertising companies have several customers who request to advertise their products to specific targets, so that the advertising campaign is as effective as possible and there is an effective return on investment in advertising.\n",
    "\n",
    "Advertising companies need to understand where within the city of Milan it is possible to reach the target requested by the customer with their advertising campaigns.\n"
   ]
  },
  {
   "cell_type": "markdown",
   "metadata": {},
   "source": [
    "## Business problem"
   ]
  },
  {
   "cell_type": "markdown",
   "metadata": {},
   "source": [
    "A customer of an advertising agency in Milan requested to advertise a home delivery food service.\n",
    "The service can be used both by restaurants, through a paid agreement, to deliver their dishes to end customers, and directly by citizens by downloading the application and selecting a partner restaurant.\n",
    "\n",
    "The advertising agency want to start a leafleting campaign and activate some promoters to advertise the product in the city of Milan.\n",
    "\n",
    "The idea is to start these campaigns in the districts of the city where there is a greater concentration of restaurants in order to reach the service's target customers: restaurants and their customers.\n",
    "\n",
    "Therefore, to maximize the effectiveness of the advertising campaign, the agency must know exactly which are the neighborhoods with the highest concentration of restaurants and therefore of the possible customers of the service."
   ]
  },
  {
   "cell_type": "markdown",
   "metadata": {},
   "source": [
    "## Data description"
   ]
  },
  {
   "cell_type": "markdown",
   "metadata": {},
   "source": [
    "To solve the problem described above and allow the advertising agency to maximize the effectiveness of the advertising campaign we need the following data:"
   ]
  },
  {
   "cell_type": "markdown",
   "metadata": {},
   "source": [
    "* data relating to the geolocation of the districts of Milan. These data are recoverable and downloadable in geojson format from the website of the municipality of Milan https://dati.comune.milano.it/dataset/e8e765fc-d882-40b8-95d8-16ff3d39eb7c\n",
    "* the geolocation data relating to the restaurants in the city of Milan will be acquired using the forsquare api"
   ]
  },
  {
   "cell_type": "markdown",
   "metadata": {},
   "source": [
    "These data will be correlated in order to identify neighborhoods with the highest concentration of restaurants.\n"
   ]
  },
  {
   "cell_type": "code",
   "execution_count": null,
   "metadata": {},
   "outputs": [],
   "source": []
  }
 ],
 "metadata": {
  "kernelspec": {
   "display_name": "Python 3",
   "language": "python",
   "name": "python3"
  },
  "language_info": {
   "codemirror_mode": {
    "name": "ipython",
    "version": 3
   },
   "file_extension": ".py",
   "mimetype": "text/x-python",
   "name": "python",
   "nbconvert_exporter": "python",
   "pygments_lexer": "ipython3",
   "version": "3.7.6"
  }
 },
 "nbformat": 4,
 "nbformat_minor": 4
}
